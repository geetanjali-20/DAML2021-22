{
 "cells": [
  {
   "cell_type": "code",
   "execution_count": 2,
   "metadata": {},
   "outputs": [
    {
     "name": "stdout",
     "output_type": "stream",
     "text": [
      "a\n"
     ]
    }
   ],
   "source": [
    "names = ['Amir', 'Bear', 'Charlton', 'Daman']\n",
    "\n",
    "print(names[-1][-2])"
   ]
  },
  {
   "cell_type": "code",
   "execution_count": 31,
   "metadata": {},
   "outputs": [
    {
     "data": {
      "text/plain": [
       "1"
      ]
     },
     "execution_count": 31,
     "metadata": {},
     "output_type": "execute_result"
    }
   ],
   "source": [
    "example = \"helle\"\n",
    "example.find(\"e\")"
   ]
  },
  {
   "cell_type": "code",
   "execution_count": 10,
   "metadata": {},
   "outputs": [
    {
     "name": "stdout",
     "output_type": "stream",
     "text": [
      "435 in hex = 0x1b3\n",
      "0 in hex = 0x0\n",
      "-34 in hex = -0x22\n",
      "Return type from hex() is <class 'str'>\n"
     ]
    }
   ],
   "source": [
    "number = 435\n",
    "print(number, 'in hex =', hex(number))\n",
    "number = 0\n",
    "print(number, 'in hex =', hex(number))\n",
    "number = -34\n",
    "print(number, 'in hex =', hex(number))\n",
    "returnType = type(hex(number))\n",
    "print('Return type from hex() is', returnType)"
   ]
  },
  {
   "cell_type": "code",
   "execution_count": 8,
   "metadata": {},
   "outputs": [
    {
     "name": "stdout",
     "output_type": "stream",
     "text": [
      "Hello World!\n",
      "Hello World!\n"
     ]
    }
   ],
   "source": [
    "def sayHello():\n",
    "    print('Hello World!') \n",
    "sayHello() \n",
    "sayHello()"
   ]
  },
  {
   "cell_type": "code",
   "execution_count": null,
   "metadata": {},
   "outputs": [],
   "source": []
  },
  {
   "cell_type": "code",
   "execution_count": null,
   "metadata": {},
   "outputs": [],
   "source": []
  },
  {
   "cell_type": "code",
   "execution_count": null,
   "metadata": {},
   "outputs": [],
   "source": []
  },
  {
   "cell_type": "code",
   "execution_count": null,
   "metadata": {},
   "outputs": [],
   "source": []
  },
  {
   "cell_type": "code",
   "execution_count": null,
   "metadata": {},
   "outputs": [],
   "source": []
  },
  {
   "cell_type": "code",
   "execution_count": 2,
   "metadata": {},
   "outputs": [
    {
     "name": "stdout",
     "output_type": "stream",
     "text": [
      "'Python is interesting'\n",
      "'Pyth\\xf6n is interesting'\n",
      "Pythön is interesting\n"
     ]
    }
   ],
   "source": [
    "normalText = 'Python is interesting'\n",
    "print(ascii(normalText))\n",
    "otherText = 'Pythön is interesting'\n",
    "print(ascii(otherText))\n",
    "print('Pyth\\xf6n is interesting')"
   ]
  },
  {
   "cell_type": "code",
   "execution_count": 4,
   "metadata": {},
   "outputs": [
    {
     "data": {
      "text/plain": [
       "True"
      ]
     },
     "execution_count": 4,
     "metadata": {},
     "output_type": "execute_result"
    }
   ],
   "source": [
    "any((1,0,0))"
   ]
  },
  {
   "cell_type": "code",
   "execution_count": 5,
   "metadata": {},
   "outputs": [
    {
     "name": "stdout",
     "output_type": "stream",
     "text": [
      "The absolute value of an integer number is: 25\n",
      "The absolute value of a float number is: 10.5\n"
     ]
    }
   ],
   "source": [
    "int_num = -25\n",
    "float_num = -10.50\n",
    "print(\"The absolute value of an integer number is:\", abs(int_num))\n",
    "print(\"The absolute value of a float number is:\", abs(float_num))"
   ]
  },
  {
   "cell_type": "code",
   "execution_count": 6,
   "metadata": {},
   "outputs": [
    {
     "name": "stdout",
     "output_type": "stream",
     "text": [
      "False\n"
     ]
    }
   ],
   "source": [
    "myset = {0, 1, 0}\n",
    "x = all(myset)\n",
    "print(x)"
   ]
  },
  {
   "cell_type": "code",
   "execution_count": 7,
   "metadata": {},
   "outputs": [
    {
     "name": "stdout",
     "output_type": "stream",
     "text": [
      "False\n"
     ]
    }
   ],
   "source": [
    "mydict = {0 : \"Apple\", 1 : \"Orange\"}\n",
    "x = all(mydict)\n",
    "print(x)"
   ]
  },
  {
   "cell_type": "code",
   "execution_count": 8,
   "metadata": {},
   "outputs": [
    {
     "name": "stdout",
     "output_type": "stream",
     "text": [
      "The octal representation of 23 is 0o27\n",
      "The octal representation of theascii value of 'z' is 0o172\n",
      "The octal representation of the binary of 23 is 0o27\n",
      "The octal representation of the binary of 23 is 0o27\n"
     ]
    }
   ],
   "source": [
    "print(\"The octal representation of 23 is \" + oct(23)) \n",
    "print(\"The octal representation of the\" \"ascii value of 'z' is \" + oct(ord('z'))) \n",
    "print(\"The octal representation of the binary of 23 is \" + oct(0b10111)) \n",
    "print(\"The octal representation of the binary of 23 is \" + oct(0x17)) "
   ]
  },
  {
   "cell_type": "code",
   "execution_count": 9,
   "metadata": {},
   "outputs": [
    {
     "name": "stdout",
     "output_type": "stream",
     "text": [
      "435 in hex = 0x1b3\n",
      "0 in hex = 0x0\n",
      "-34 in hex = -0x22\n",
      "Return type from hex() is <class 'str'>\n"
     ]
    }
   ],
   "source": [
    "number = 435\n",
    "print(number, 'in hex =', hex(number))\n",
    "number = 0\n",
    "print(number, 'in hex =', hex(number))\n",
    "number = -34\n",
    "print(number, 'in hex =', hex(number))\n",
    "returnType = type(hex(number))\n",
    "print('Return type from hex() is', returnType)"
   ]
  },
  {
   "cell_type": "code",
   "execution_count": 10,
   "metadata": {},
   "outputs": [
    {
     "name": "stdout",
     "output_type": "stream",
     "text": [
      "True\n"
     ]
    }
   ],
   "source": [
    "mylist = [True, True, True]\n",
    "x = all(mylist)\n",
    "print(x) "
   ]
  },
  {
   "cell_type": "code",
   "execution_count": 11,
   "metadata": {},
   "outputs": [
    {
     "name": "stdout",
     "output_type": "stream",
     "text": [
      "False\n"
     ]
    }
   ],
   "source": [
    "mytuple = (0, True, False)\n",
    "x = all(mytuple)\n",
    "print(x)"
   ]
  },
  {
   "cell_type": "code",
   "execution_count": 13,
   "metadata": {},
   "outputs": [
    {
     "name": "stdout",
     "output_type": "stream",
     "text": [
      "2\n"
     ]
    }
   ],
   "source": [
    "def foo():\n",
    "    try:\n",
    "        return 1\n",
    "    finally:\n",
    "        return 2\n",
    "k = foo()\n",
    "print(k)\n"
   ]
  },
  {
   "cell_type": "code",
   "execution_count": 14,
   "metadata": {},
   "outputs": [
    {
     "name": "stdout",
     "output_type": "stream",
     "text": [
      "1\n",
      "2\n"
     ]
    }
   ],
   "source": [
    "def foo():\n",
    "    try:\n",
    "        print(1)\n",
    "    finally:\n",
    "        print(2)\n",
    "foo()\n"
   ]
  },
  {
   "cell_type": "code",
   "execution_count": 32,
   "metadata": {},
   "outputs": [
    {
     "name": "stdout",
     "output_type": "stream",
     "text": [
      "6\n",
      "LSB of 6 is set (0)\n"
     ]
    }
   ],
   "source": [
    "def LSB(num, K): \n",
    "    return bool(num & (1 << (K - 1) )) \n",
    "  \n",
    "\n",
    "num=int(input())\n",
    "k = 1\n",
    "  \n",
    "res = LSB(num, k) \n",
    "if res==1: \n",
    "    print(\"LSB of {} is set (1)\".format(num))\n",
    "else: \n",
    "    print(\"LSB of {} is set (0)\".format(num))\n"
   ]
  },
  {
   "cell_type": "code",
   "execution_count": null,
   "metadata": {},
   "outputs": [],
   "source": [
    "Input:-  11, 12, 2014\n",
    "Output :-  11 / 12 / 2014\n"
   ]
  },
  {
   "cell_type": "code",
   "execution_count": 26,
   "metadata": {},
   "outputs": [
    {
     "name": "stdout",
     "output_type": "stream",
     "text": [
      "11, 12, 2014\n",
      "11 / 12 / 2014\n"
     ]
    }
   ],
   "source": [
    "import re\n",
    "string=input()\n",
    "print(re.sub(',',' /',string))"
   ]
  },
  {
   "cell_type": "code",
   "execution_count": 39,
   "metadata": {},
   "outputs": [
    {
     "name": "stdout",
     "output_type": "stream",
     "text": [
      "we dont need no education we dont need no thought control no we dont\n",
      "dont\n",
      "[1, 6, 13]\n"
     ]
    }
   ],
   "source": [
    "def find_target_positions(input_string, target_word):\n",
    "    target_list=[]\n",
    "    #Start writing your code here\n",
    "    input_string=input_string.split(\" \")\n",
    "    count=0\n",
    "    for i in input_string:\n",
    "    \tif i==target_word:\n",
    "    \t\ttarget_list.append(count)\n",
    "    \tcount+=1\n",
    "\n",
    "\n",
    "    return target_list\n",
    "\n",
    "    \n",
    "input_string=input()    \n",
    "#input_string=\"we dont need no education we dont need no thought control no we dont\"\n",
    "target_word=input()\n",
    "result_dict=find_target_positions(input_string,target_word)\n",
    "print(result_dict)"
   ]
  },
  {
   "cell_type": "code",
   "execution_count": 3,
   "metadata": {},
   "outputs": [
    {
     "name": "stdout",
     "output_type": "stream",
     "text": [
      "5\n",
      "3,4,5,5,1\n",
      "False\n"
     ]
    }
   ],
   "source": [
    "def test_distinct(data):\n",
    "  if len(data) == len(set(data)):\n",
    "    return True\n",
    "  else:\n",
    "    return False;\n",
    "lists = []\n",
    "pos=int(input())\n",
    "n=input().split(\",\")\n",
    "for i in n:\n",
    "    lists.append(i)\n",
    "\n",
    "print(test_distinct(lists))\n",
    "#print(test_distinct([2,4,5,5,7,9]))"
   ]
  },
  {
   "cell_type": "code",
   "execution_count": 4,
   "metadata": {},
   "outputs": [
    {
     "name": "stdout",
     "output_type": "stream",
     "text": [
      "[4, 5, 6, 1, 2, 3]\n"
     ]
    }
   ],
   "source": [
    "# Python program to right rotate a list by n \n",
    "\n",
    "# Returns the rotated list \n",
    "def rightRotate(lists, num): \n",
    "\toutput_list = [] \n",
    "\t\n",
    "\t# Will add values from n to the new list \n",
    "\tfor item in range(len(lists) - num, len(lists)): \n",
    "\t\toutput_list.append(lists[item]) \n",
    "\t\n",
    "\t# Will add the values before \n",
    "\t# n to the end of new list\t \n",
    "\tfor item in range(0, len(lists) - num): \n",
    "\t\toutput_list.append(lists[item]) \n",
    "\t\t\n",
    "\treturn output_list \n",
    "\n",
    "# Driver Code \n",
    "rotate_num = 3\n",
    "list_1 = [1, 2, 3, 4, 5, 6] \n",
    "\n",
    "print(rightRotate(list_1, rotate_num)) \n"
   ]
  },
  {
   "cell_type": "code",
   "execution_count": 6,
   "metadata": {},
   "outputs": [
    {
     "name": "stdout",
     "output_type": "stream",
     "text": [
      "2\n",
      "1,2,3,4,5,6,7,8,9\n",
      "['8', '9', '1', '2', '3', '4', '5', '6', '7']\n"
     ]
    }
   ],
   "source": [
    "def rotate_list(lists,num):\n",
    "    \n",
    "    #Write your code here\n",
    "    output_list = [] \n",
    "      \n",
    "    # Will add values from n to the new list \n",
    "    for item in range(len(lists) - num, len(lists)): \n",
    "        output_list.append(lists[item]) \n",
    "      \n",
    "    # Will add the values before \n",
    "    # n to the end of new list     \n",
    "    for item in range(0, len(lists) - num):  \n",
    "        output_list.append(lists[item]) \n",
    "          \n",
    "    return output_list \n",
    "  \n",
    "lists = []\n",
    "pos=int(input())\n",
    "num=input().split(\",\")\n",
    "for i in num:\n",
    "    lists.append(i)\n",
    "output_list=rotate_list(lists,pos)\n",
    "print(output_list)"
   ]
  },
  {
   "cell_type": "code",
   "execution_count": null,
   "metadata": {},
   "outputs": [],
   "source": []
  }
 ],
 "metadata": {
  "kernelspec": {
   "display_name": "Python 3",
   "language": "python",
   "name": "python3"
  },
  "language_info": {
   "codemirror_mode": {
    "name": "ipython",
    "version": 3
   },
   "file_extension": ".py",
   "mimetype": "text/x-python",
   "name": "python",
   "nbconvert_exporter": "python",
   "pygments_lexer": "ipython3",
   "version": "3.8.5"
  }
 },
 "nbformat": 4,
 "nbformat_minor": 4
}
