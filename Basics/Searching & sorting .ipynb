{
 "cells": [
  {
   "cell_type": "code",
   "execution_count": 1,
   "metadata": {},
   "outputs": [
    {
     "name": "stdout",
     "output_type": "stream",
     "text": [
      "hello\n"
     ]
    }
   ],
   "source": [
    "print(\"hello\")"
   ]
  },
  {
   "cell_type": "code",
   "execution_count": 11,
   "metadata": {},
   "outputs": [
    {
     "name": "stdout",
     "output_type": "stream",
     "text": [
      "Enter len of array 3\n",
      "enter element 1\n",
      "enter element 2\n",
      "enter element 3\n",
      "Enter element to be search 2\n",
      "Element found at  1\n"
     ]
    }
   ],
   "source": [
    "def search(A,n):\n",
    "    flag=0\n",
    "    for i in range(len(A)):\n",
    "        if A[i]==n:\n",
    "            flag=flag+1\n",
    "            break\n",
    "        else:\n",
    "            flag=0\n",
    "    if flag!=0:\n",
    "        print(\"Element found at \",flag)\n",
    "    \n",
    "A=[]\n",
    "x=int(input(\"Enter len of array \"))\n",
    "for i in range(x):\n",
    "    A.append(int(input(\"enter element \")))\n",
    "num=int(input(\"Enter element to be search \"))\n",
    "search(A,num)\n"
   ]
  },
  {
   "cell_type": "markdown",
   "metadata": {},
   "source": [
    "1\n",
    "## "
   ]
  }
 ],
 "metadata": {
  "kernelspec": {
   "display_name": "Python 3",
   "language": "python",
   "name": "python3"
  },
  "language_info": {
   "codemirror_mode": {
    "name": "ipython",
    "version": 3
   },
   "file_extension": ".py",
   "mimetype": "text/x-python",
   "name": "python",
   "nbconvert_exporter": "python",
   "pygments_lexer": "ipython3",
   "version": "3.8.5"
  }
 },
 "nbformat": 4,
 "nbformat_minor": 4
}
