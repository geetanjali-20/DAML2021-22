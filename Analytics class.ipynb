{
 "cells": [
  {
   "cell_type": "markdown",
   "metadata": {},
   "source": [
    "### First day(8 October,2021)"
   ]
  },
  {
   "cell_type": "code",
   "execution_count": 13,
   "metadata": {},
   "outputs": [
    {
     "name": "stdout",
     "output_type": "stream",
     "text": [
      "41382.0\n",
      "1800.0\n",
      "4305.5599999999995\n",
      "3502.0\n",
      "2178.0\n",
      "Not a valid measurement!\n",
      "None\n"
     ]
    }
   ],
   "source": [
    "def clean(st):\n",
    "    if '-' in st:\n",
    "        t = st.split('-')\n",
    "        return (int(t[0])+int (t[1]))/2\n",
    "    elif st.endswith('yards'):\n",
    "        return 9*float(st[0:st.index('y')])\n",
    "    elif st.endswith('Guntha'):\n",
    "        return 1089*float(st[0:st.index('G')])\n",
    "    elif st.endswith('cents'):\n",
    "        return 435.6*float(st[0:st.index('c')])\n",
    "    elif st.endswith('Sq.m'):\n",
    "        return 10.7639*float(st[0:st.index('S')])\n",
    "    else:\n",
    "        print(\"Not a valid measurement!\")\n",
    "    \n",
    "\n",
    "L1=['38Guntha','200yards','400Sq.m','3454-3550','50cents','600Sq.Meter']\n",
    "for i in L1:\n",
    "    x=clean(i)\n",
    "    print(x)\n",
    "# clean('200yards')\n",
    "# clean('38Guntha')\n",
    "# clean('4cents')\n"
   ]
  },
  {
   "cell_type": "code",
   "execution_count": null,
   "metadata": {},
   "outputs": [],
   "source": []
  },
  {
   "cell_type": "code",
   "execution_count": null,
   "metadata": {},
   "outputs": [],
   "source": []
  }
 ],
 "metadata": {
  "kernelspec": {
   "display_name": "Python 3",
   "language": "python",
   "name": "python3"
  },
  "language_info": {
   "codemirror_mode": {
    "name": "ipython",
    "version": 3
   },
   "file_extension": ".py",
   "mimetype": "text/x-python",
   "name": "python",
   "nbconvert_exporter": "python",
   "pygments_lexer": "ipython3",
   "version": "3.8.5"
  }
 },
 "nbformat": 4,
 "nbformat_minor": 4
}
